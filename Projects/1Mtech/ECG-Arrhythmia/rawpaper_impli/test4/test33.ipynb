{
 "cells": [
  {
   "cell_type": "code",
   "execution_count": null,
   "metadata": {},
   "outputs": [],
   "source": [
    "!pip install wfdb matplotlib numpy scipy"
   ]
  },
  {
   "cell_type": "markdown",
   "metadata": {},
   "source": [
    "Libraries"
   ]
  },
  {
   "cell_type": "code",
   "execution_count": null,
   "metadata": {},
   "outputs": [],
   "source": [
    "import wfdb\n",
    "import numpy as np\n",
    "import matplotlib.pyplot as plt\n",
    "from scipy.signal import butter, filtfilt, find_peaks"
   ]
  },
  {
   "cell_type": "markdown",
   "metadata": {},
   "source": [
    "Load ECG Data"
   ]
  },
  {
   "cell_type": "code",
   "execution_count": null,
   "metadata": {},
   "outputs": [],
   "source": [
    "# record_name = '100'  # normal\n",
    "record_name = '233' #Bradycardia\n",
    "\n",
    "try:\n",
    "    record = wfdb.rdrecord(record_name)\n",
    "    ecg_signal = record.p_signal[:, 0]\n",
    "    # fs = record.fs  # Sampling frequency (Hz)\n",
    "    fs = 360\n",
    "    \n",
    "    samp_sec = 60  # Number of seconds to plot\n",
    "    # num_samples = int(120 * fs)  # Number of samples in 120 seconds\n",
    "    num_samples = int(samp_sec * fs)\n",
    "    ecg_signal = ecg_signal[:num_samples]\n",
    "    print(f\"Loaded record '{record_name}' with sampling rate {fs} Hz\")\n",
    "except FileNotFoundError:\n",
    "    print(f\"Error: Record '{record_name}' not found. Check PhysioNet access.\")\n",
    "\n",
    "plt.figure(figsize=(15, 6))    \n",
    "plt.plot(ecg_signal)\n",
    "plt.title(\"ecg_signal\")\n",
    "plt.show()\n",
    "    "
   ]
  },
  {
   "cell_type": "markdown",
   "metadata": {},
   "source": [
    "Amplitude Normalization"
   ]
  },
  {
   "cell_type": "code",
   "execution_count": null,
   "metadata": {},
   "outputs": [],
   "source": [
    "def amplitude_normalization(signal):\n",
    "    return signal / np.max(np.abs(signal))\n",
    "\n",
    "normalized_signal = amplitude_normalization(ecg_signal)\n",
    "plt.figure(figsize=(15, 6))\n",
    "plt.plot(normalized_signal)\n",
    "plt.title(\"normalized_signal\")\n",
    "plt.show()"
   ]
  },
  {
   "cell_type": "markdown",
   "metadata": {},
   "source": [
    "Bandpass Filtering (0.5–40 Hz)"
   ]
  },
  {
   "cell_type": "code",
   "execution_count": null,
   "metadata": {},
   "outputs": [],
   "source": [
    "def butter_bandpass_filter(data, lowcut, highcut, fs, order=5):\n",
    "    nyquist = 0.5 * fs\n",
    "    low = lowcut / nyquist\n",
    "    high = highcut / nyquist\n",
    "    b, a = butter(order, [low, high], btype='band')\n",
    "    y = filtfilt(b, a, data)\n",
    "    return y\n",
    "\n",
    "# filtered_signal = butter_bandpass_filter(normalized_signal, 0.5, 40, fs)\n",
    "filtered_signal = butter_bandpass_filter(normalized_signal, 1, 15, fs)\n",
    "plt.figure(figsize=(15, 6))\n",
    "plt.plot(filtered_signal)\n",
    "plt.title(\"Filtered ECG Signal\")\n",
    "plt.show()"
   ]
  },
  {
   "cell_type": "markdown",
   "metadata": {},
   "source": [
    " Feature Extraction"
   ]
  },
  {
   "cell_type": "markdown",
   "metadata": {},
   "source": [
    "QRS Complex Detection (Pan-Tompkins)"
   ]
  },
  {
   "cell_type": "code",
   "execution_count": null,
   "metadata": {},
   "outputs": [],
   "source": [
    "# def pan_tompkins_qrs_detection(signal, fs):\n",
    "#     # Bandpass filter (already done in preprocessing)\n",
    "#     diff_signal = np.diff(signal)\n",
    "#     squared_signal = diff_signal ** 2\n",
    "#     # window_size = int(0.15 * fs)\n",
    "#     window_size = int(0.11 * fs)\n",
    "#     integrated_signal = np.convolve(squared_signal, np.ones(window_size)/window_size)\n",
    "#     threshold = 0.5 * np.max(integrated_signal)\n",
    "#     qrs_peaks, _ = find_peaks(integrated_signal, height=threshold)\n",
    "#     return qrs_peaks\n",
    "\n",
    "# qrs_peaks = pan_tompkins_qrs_detection(filtered_signal, fs)\n",
    "# def pan_tompkins_qrs_detection(signal, fs):\n",
    "#     signal = np.asarray(signal)  # Ensure signal is a NumPy array\n",
    "\n",
    "#     # Step 1: Differentiate the signal\n",
    "#     diff_signal = np.diff(signal, prepend=signal[0])  # Keep same length\n",
    "\n",
    "#     # Step 2: Square the differentiated signal\n",
    "#     squared_signal = diff_signal ** 2\n",
    "\n",
    "#     # Step 3: Moving window integration\n",
    "#     window_size = int(0.11 * fs)  # Adjust for best results\n",
    "#     integrated_signal = np.convolve(squared_signal, np.ones(window_size)/window_size, mode='same')\n",
    "\n",
    "#     # Step 4: Thresholding to detect peaks\n",
    "#     threshold = 0.5 * np.max(integrated_signal)\n",
    "#     qrs_peaks, _ = find_peaks(integrated_signal, height=threshold, distance=int(0.2 * fs))  # Add refractory period\n",
    "\n",
    "#     return qrs_peaks\n",
    "# print(f\"Detected {len(qrs_peaks)} QRS peaks\")\n",
    "# plt.figure(figsize=(15, 6))\n",
    "# plt.plot(filtered_signal)   \n",
    "# plt.plot(qrs_peaks, filtered_signal[qrs_peaks], 'ro')\n",
    "# plt.title(\"Filtered ECG Signal with QRS peaks\")\n",
    "# plt.show()\n",
    "\n",
    "def pan_tompkins_qrs_detection(signal, fs, threshold_ratio=0.5):\n",
    "    # 1. Differentiation\n",
    "    diff_signal = np.diff(signal, prepend=signal[0])\n",
    "    # 2. Squaring\n",
    "    squared_signal = diff_signal ** 2\n",
    "    # 3. Moving window integration\n",
    "    window_size = int(0.5 * fs)\n",
    "    integrated_signal = np.convolve(squared_signal, np.ones(window_size)/window_size, mode='same')\n",
    "    # 4. Thresholding\n",
    "    # threshold = threshold_ratio * np.max(integrated_signal)\n",
    "    threshold = threshold_ratio * np.median(integrated_signal)\n",
    "    qrs_peaks, _ = find_peaks(integrated_signal, height=threshold, distance=int(0.2*fs))\n",
    "    return qrs_peaks, integrated_signal\n",
    "\n",
    "# Use the function and plot results\n",
    "qrs_peaks, integrated_signal = pan_tompkins_qrs_detection(filtered_signal, fs)\n",
    "\n",
    "print(f\"Detected {len(qrs_peaks)} QRS peaks (Pan-Tompkins)\")\n",
    "\n",
    "plt.figure(figsize=(15, 6))\n",
    "plt.plot(filtered_signal, label='Filtered ECG')\n",
    "plt.plot(qrs_peaks, filtered_signal[qrs_peaks], 'ro', label='QRS Peaks (Pan-Tompkins)')\n",
    "plt.title(\"Pan-Tompkins QRS Detection\")\n",
    "plt.xlabel('Samples')\n",
    "plt.ylabel('Amplitude')\n",
    "plt.legend()\n",
    "plt.show()\n",
    "\n",
    "# Optional: Plot the integrated signal and threshold\n",
    "plt.figure(figsize=(15, 4))\n",
    "plt.plot(integrated_signal, label='Integrated Signal')\n",
    "plt.axhline(y=0.5 * np.max(integrated_signal), color='r', linestyle='--', label='Threshold')\n",
    "plt.title(\"Integrated Signal (Pan-Tompkins)\")\n",
    "plt.legend()\n",
    "plt.show()"
   ]
  },
  {
   "cell_type": "code",
   "execution_count": null,
   "metadata": {},
   "outputs": [],
   "source": [
    "def detect_r_peaks(signal, fs):\n",
    "    peaks, _ = find_peaks(signal, height=np.mean(signal), distance=fs*0.6)\n",
    "    return peaks\n",
    "\n",
    "r_peaks = detect_r_peaks(filtered_signal, fs)\n",
    "print(f\"Detected {len(r_peaks)} R-peaks\")\n",
    "plt.figure(figsize=(15, 6))\n",
    "plt.plot(filtered_signal)\n",
    "plt.plot(r_peaks, filtered_signal[r_peaks], 'ro')\n",
    "plt.title(\"Filtered ECG Signal with R-peaks\")\n",
    "plt.show()\n"
   ]
  },
  {
   "cell_type": "markdown",
   "metadata": {},
   "source": [
    "Detect Q, S, P, T Peaks"
   ]
  },
  {
   "cell_type": "code",
   "execution_count": null,
   "metadata": {},
   "outputs": [],
   "source": [
    "def detect_qs_peaks(signal, r_peaks, fs):\n",
    "    q_peaks, s_peaks = [], []\n",
    "    search_window = int(0.05 * fs)  # 50 ms before/after R-peak\n",
    "    \n",
    "    for r in r_peaks:\n",
    "        # Q-peak: Search 50 ms before R-peak\n",
    "        q_start = max(0, r - search_window)\n",
    "        q_window = signal[q_start:r]\n",
    "        if len(q_window) > 0:\n",
    "            q_peak = np.argmin(q_window) + q_start\n",
    "            q_peaks.append(q_peak)\n",
    "        else:\n",
    "            q_peaks.append(np.nan)\n",
    "        \n",
    "        # S-peak: Search 50 ms after R-peak\n",
    "        s_end = min(len(signal), r + search_window)\n",
    "        s_window = signal[r:s_end]\n",
    "        if len(s_window) > 0:\n",
    "            s_peak = np.argmin(s_window) + r\n",
    "            s_peaks.append(s_peak)\n",
    "        else:\n",
    "            s_peaks.append(np.nan)\n",
    "    \n",
    "    return np.array(q_peaks), np.array(s_peaks)\n",
    "\n",
    "def detect_pt_peaks(signal, r_peaks, fs):\n",
    "    p_peaks, t_peaks = [], []\n",
    "    \n",
    "    # Filter out NaN values from r_peaks\n",
    "    r_peaks = r_peaks[~np.isnan(r_peaks)].astype(int)\n",
    "\n",
    "    for i, r in enumerate(r_peaks):\n",
    "        # P-wave: Search before R-peak\n",
    "        if i > 0:\n",
    "            prev_t = t_peaks[i-1] if not np.isnan(t_peaks[i-1]) else 0\n",
    "            p_start = max(prev_t + int(0.1 * fs), r - int(0.3 * fs))\n",
    "        else:\n",
    "            p_start = max(0, r - int(0.3 * fs))\n",
    "        \n",
    "        p_window = signal[int(p_start):r]\n",
    "        p_peak, _ = find_peaks(p_window, prominence=0.1 * np.max(signal))  \n",
    "        if len(p_peak) > 0:\n",
    "            p_peaks.append(p_peak[0] + int(p_start))\n",
    "        else:\n",
    "            p_peaks.append(np.nan)\n",
    "        \n",
    "        # T-wave: Search after R-peak\n",
    "        # t_start = r + int(0.2 * fs) \n",
    "        t_start = r + int(0.2 * fs)  \n",
    "        # t_end = min(len(signal), r + int(0.4 * fs))\n",
    "        t_end = min(len(signal), r + int(0.5 * fs))\n",
    "        t_window = signal[t_start:t_end]\n",
    "        t_peak, _ = find_peaks(t_window, prominence=0.01 * np.max(signal))\n",
    "        if len(t_peak) > 0:\n",
    "            t_peaks.append(t_peak[0] + t_start)\n",
    "        else:\n",
    "            t_peaks.append(np.nan)\n",
    "    \n",
    "    return np.array(p_peaks), np.array(t_peaks)\n",
    "\n",
    "\n",
    "\n",
    "q_peaks, s_peaks = detect_qs_peaks(filtered_signal, r_peaks,fs)\n",
    "p_peaks, t_peaks = detect_pt_peaks(filtered_signal, r_peaks, fs)\n",
    "\n",
    "valid_p_peaks = p_peaks[~np.isnan(p_peaks)].astype(int)\n",
    "valid_r_peaks = r_peaks[~np.isnan(r_peaks)].astype(int)\n",
    "\n",
    "# Print the detected peak counts and locations\n",
    "print(f\"Detected {len(q_peaks)} Q-peaks at locations: {q_peaks}\")\n",
    "print(f\"Detected {len(s_peaks)} S-peaks at locations: {s_peaks}\")\n",
    "print(f\"Detected {len(valid_p_peaks)} P-peaks at locations: {valid_p_peaks}\")\n",
    "print(f\"Detected {len(t_peaks)} T-peaks at locations: {t_peaks}\")\n",
    "\n",
    "plt.figure(figsize=(15, 6))\n",
    "plt.plot(filtered_signal, label='Filtered ECG', alpha=0.7)\n",
    "\n",
    "# annotate r-peaks with numbers\n",
    "for i, r in enumerate(valid_r_peaks):\n",
    "    plt.text(r, filtered_signal[r] + 0.05, str(i+1), color='black', fontsize=12, ha='center')  # Annotate with peak number\n",
    "\n",
    "plt.plot(r_peaks, filtered_signal[r_peaks], 'ro', label='R Peaks')\n",
    "plt.plot(q_peaks[~np.isnan(q_peaks)].astype(int), filtered_signal[q_peaks[~np.isnan(q_peaks)].astype(int)], 'go', label='Q Peaks')\n",
    "plt.plot(s_peaks[~np.isnan(s_peaks)].astype(int), filtered_signal[s_peaks[~np.isnan(s_peaks)].astype(int)], 'bo', label='S Peaks')\n",
    "plt.plot(p_peaks[~np.isnan(p_peaks)].astype(int), filtered_signal[p_peaks[~np.isnan(p_peaks)].astype(int)], 'yo', label='P Peaks')\n",
    "plt.plot(t_peaks[~np.isnan(t_peaks)].astype(int), filtered_signal[t_peaks[~np.isnan(t_peaks)].astype(int)], 'mo', label='T Peaks')\n",
    "\n",
    "plt.title('ECG Signal with Improved Peak Detection')\n",
    "plt.xlabel('Samples')\n",
    "plt.ylabel('Amplitude')\n",
    "plt.legend()\n",
    "plt.show()"
   ]
  },
  {
   "cell_type": "markdown",
   "metadata": {},
   "source": [
    "Calculate Dynamic Features"
   ]
  },
  {
   "cell_type": "code",
   "execution_count": null,
   "metadata": {},
   "outputs": [],
   "source": [
    "rr_intervals = np.diff(r_peaks) / fs  # In seconds\n",
    "heart_rate = 60 / np.mean(rr_intervals)\n",
    "hrv = (np.max(rr_intervals) - np.min(rr_intervals)) * 100\n",
    "print(f\"Heart rate: {heart_rate:.2f} bpm\")\n",
    "print(f\"HRV: {hrv:.2f} ms\")"
   ]
  },
  {
   "cell_type": "markdown",
   "metadata": {},
   "source": [
    "R/P Ratio"
   ]
  },
  {
   "cell_type": "code",
   "execution_count": null,
   "metadata": {},
   "outputs": [],
   "source": [
    "# Ensure both arrays have the same length\n",
    "min_length = min(len(valid_r_peaks), len(valid_p_peaks))\n",
    "valid_r_peaks = valid_r_peaks[:min_length]\n",
    "valid_p_peaks = valid_p_peaks[:min_length]\n",
    "\n",
    "# Extract amplitudes\n",
    "r_amplitudes = filtered_signal[valid_r_peaks]\n",
    "p_amplitudes = filtered_signal[valid_p_peaks]\n",
    "\n",
    "# Avoid division by zero\n",
    "safe_p_amplitudes = np.where(p_amplitudes == 0, np.nan, p_amplitudes)\n",
    "r_to_p_ratio = np.nanmean(r_amplitudes / safe_p_amplitudes)  # Ignore NaN values\n",
    "\n",
    "print(f\"R-to-P amplitude ratio: {r_to_p_ratio:.2f}\")\n"
   ]
  },
  {
   "cell_type": "markdown",
   "metadata": {},
   "source": [
    "Rule-Based Classification"
   ]
  },
  {
   "cell_type": "code",
   "execution_count": null,
   "metadata": {},
   "outputs": [],
   "source": [
    "classification = []\n",
    "\n",
    "# Rule-based checks\n",
    "if heart_rate < 60:\n",
    "    classification.append(\"Bradycardia\")\n",
    "elif heart_rate > 100:\n",
    "    classification.append(\"Tachycardia\")\n",
    "\n",
    "# Check for irregular RR intervals (AFib)\n",
    "rr_std = np.std(rr_intervals)\n",
    "if rr_std > 0.15 and len(p_peaks) < 0.5 * len(r_peaks):  # Arbitrary thresholds\n",
    "    classification.append(\"Atrial Fibrillation (Suspected)\")\n",
    "\n",
    "# If no conditions met, classify as Normal\n",
    "if not classification:\n",
    "    classification.append(\"Normal - healthy\")\n",
    "\n",
    "# Print results\n",
    "print(\"Classification Results:\", \", \".join(classification))"
   ]
  },
  {
   "cell_type": "code",
   "execution_count": null,
   "metadata": {},
   "outputs": [],
   "source": [
    "plt.figure(figsize=(15, 6))\n",
    "plt.plot(filtered_signal, label='Filtered ECG')\n",
    "plt.plot(r_peaks, filtered_signal[r_peaks], 'ro', label='R Peaks')\n",
    "plt.plot(q_peaks[~np.isnan(q_peaks)].astype(int), filtered_signal[q_peaks[~np.isnan(q_peaks)].astype(int)], 'go', label='Q Peaks')\n",
    "plt.plot(s_peaks[~np.isnan(s_peaks)].astype(int), filtered_signal[s_peaks[~np.isnan(s_peaks)].astype(int)], 'bo', label='S Peaks')\n",
    "plt.plot(p_peaks[~np.isnan(p_peaks)].astype(int), filtered_signal[p_peaks[~np.isnan(p_peaks)].astype(int)], 'yo', label='P Peaks')\n",
    "plt.plot(t_peaks[~np.isnan(t_peaks)].astype(int), filtered_signal[t_peaks[~np.isnan(t_peaks)].astype(int)], 'mo', label='T Peaks')\n",
    "plt.title('ECG Signal with Detected Peaks')\n",
    "plt.xlabel('Samples')\n",
    "plt.ylabel('Amplitude')\n",
    "plt.legend()\n",
    "plt.show()"
   ]
  },
  {
   "cell_type": "code",
   "execution_count": null,
   "metadata": {},
   "outputs": [],
   "source": [
    "plt.figure(figsize=(10, 4))\n",
    "plt.plot(r_peaks[1:]/fs, 60/rr_intervals, 'b-')\n",
    "plt.xlabel('Time (s)')\n",
    "plt.ylabel('Heart Rate (BPM)')\n",
    "plt.legend(['Heart Rate'])\n",
    "plt.title('Heart Rate Variability (HRV)')\n",
    "plt.grid(True)\n",
    "plt.show()"
   ]
  }
 ],
 "metadata": {
  "kernelspec": {
   "display_name": "Python 3",
   "language": "python",
   "name": "python3"
  },
  "language_info": {
   "codemirror_mode": {
    "name": "ipython",
    "version": 3
   },
   "file_extension": ".py",
   "mimetype": "text/x-python",
   "name": "python",
   "nbconvert_exporter": "python",
   "pygments_lexer": "ipython3",
   "version": "3.11.0"
  }
 },
 "nbformat": 4,
 "nbformat_minor": 2
}
