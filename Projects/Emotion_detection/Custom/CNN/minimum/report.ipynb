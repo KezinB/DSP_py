{
 "cells": [
  {
   "cell_type": "code",
   "execution_count": 1,
   "metadata": {},
   "outputs": [],
   "source": [
    "import numpy as np\n",
    "import tensorflow as tf\n",
    "from tensorflow.keras.preprocessing.image import ImageDataGenerator\n",
    "from sklearn.metrics import accuracy_score, f1_score, confusion_matrix, classification_report\n",
    "import os"
   ]
  },
  {
   "cell_type": "code",
   "execution_count": 2,
   "metadata": {},
   "outputs": [
    {
     "name": "stderr",
     "output_type": "stream",
     "text": [
      "WARNING:absl:Compiled the loaded model, but the compiled metrics have yet to be built. `model.compile_metrics` will be empty until you train or evaluate the model.\n"
     ]
    },
    {
     "name": "stdout",
     "output_type": "stream",
     "text": [
      "Found 7178 images belonging to 7 classes.\n"
     ]
    },
    {
     "name": "stderr",
     "output_type": "stream",
     "text": [
      "c:\\Users\\kezin\\AppData\\Local\\Programs\\Python\\Python311\\Lib\\site-packages\\keras\\src\\trainers\\data_adapters\\py_dataset_adapter.py:121: UserWarning: Your `PyDataset` class should call `super().__init__(**kwargs)` in its constructor. `**kwargs` can include `workers`, `use_multiprocessing`, `max_queue_size`. Do not pass these arguments to `fit()`, as they will be ignored.\n",
      "  self._warn_if_super_not_called()\n"
     ]
    },
    {
     "name": "stdout",
     "output_type": "stream",
     "text": [
      "\u001b[1m225/225\u001b[0m \u001b[32m━━━━━━━━━━━━━━━━━━━━\u001b[0m\u001b[37m\u001b[0m \u001b[1m11s\u001b[0m 49ms/step\n",
      "Accuracy: 0.2310\n",
      "F1 Score: 0.2267\n",
      "Confusion Matrix:\n",
      "[[227 218  22 186  44 106 155]\n",
      " [ 12  46   1  19  10   5  18]\n",
      " [170 256  30 164  49  80 275]\n",
      " [276 337  61 544 124 162 270]\n",
      " [195 345  34 265 128 147 119]\n",
      " [254 278  28 266  68 195 158]\n",
      " [ 67 122   9  82  29  34 488]]\n",
      "\n",
      "Classification Report:\n",
      "              precision    recall  f1-score   support\n",
      "\n",
      "       angry       0.19      0.24      0.21       958\n",
      "     disgust       0.03      0.41      0.05       111\n",
      "        fear       0.16      0.03      0.05      1024\n",
      "       happy       0.36      0.31      0.33      1774\n",
      "     neutral       0.28      0.10      0.15      1233\n",
      "         sad       0.27      0.16      0.20      1247\n",
      "    surprise       0.33      0.59      0.42       831\n",
      "\n",
      "    accuracy                           0.23      7178\n",
      "   macro avg       0.23      0.26      0.20      7178\n",
      "weighted avg       0.27      0.23      0.23      7178\n",
      "\n"
     ]
    }
   ],
   "source": [
    "# Load your trained model\n",
    "model = tf.keras.models.load_model(\"model_file.h5\")\n",
    "\n",
    "# Path to your test dataset\n",
    "test_dir = r\"C:\\Users\\kezin\\Downloads\\archive\\test\"  # Update this to your test image folder\n",
    "\n",
    "# Image parameters (should match your model's input size)\n",
    "IMG_SIZE = (48, 48)  # Update if different\n",
    "BATCH_SIZE = 32  # Adjust batch size as needed\n",
    "\n",
    "# Load test images using ImageDataGenerator\n",
    "test_datagen = ImageDataGenerator(rescale=1./255)  # Normalize images\n",
    "test_generator = test_datagen.flow_from_directory(\n",
    "    test_dir,\n",
    "    target_size=IMG_SIZE,\n",
    "    batch_size=BATCH_SIZE,\n",
    "    class_mode='categorical',  # Ensures labels are one-hot encoded\n",
    "    color_mode='grayscale',  # Force grayscale images (fix for input shape mismatch)\n",
    "    shuffle=False  \n",
    ")\n",
    "\n",
    "# Get true labels\n",
    "y_true = test_generator.classes\n",
    "class_labels = list(test_generator.class_indices.keys())  # Get class names\n",
    "\n",
    "# Predict on test data\n",
    "y_pred_probs = model.predict(test_generator)\n",
    "y_pred = np.argmax(y_pred_probs, axis=1)  # Convert probabilities to class labels\n",
    "\n",
    "# Calculate metrics\n",
    "accuracy = accuracy_score(y_true, y_pred)\n",
    "f1 = f1_score(y_true, y_pred, average=\"weighted\")\n",
    "conf_matrix = confusion_matrix(y_true, y_pred)\n",
    "report = classification_report(y_true, y_pred, target_names=class_labels)\n",
    "\n",
    "# Print results\n",
    "print(f\"Accuracy: {accuracy:.4f}\")\n",
    "print(f\"F1 Score: {f1:.4f}\")\n",
    "print(\"Confusion Matrix:\")\n",
    "print(conf_matrix)\n",
    "print(\"\\nClassification Report:\")\n",
    "print(report)\n"
   ]
  }
 ],
 "metadata": {
  "kernelspec": {
   "display_name": "Python 3",
   "language": "python",
   "name": "python3"
  },
  "language_info": {
   "codemirror_mode": {
    "name": "ipython",
    "version": 3
   },
   "file_extension": ".py",
   "mimetype": "text/x-python",
   "name": "python",
   "nbconvert_exporter": "python",
   "pygments_lexer": "ipython3",
   "version": "3.11.0"
  }
 },
 "nbformat": 4,
 "nbformat_minor": 2
}
