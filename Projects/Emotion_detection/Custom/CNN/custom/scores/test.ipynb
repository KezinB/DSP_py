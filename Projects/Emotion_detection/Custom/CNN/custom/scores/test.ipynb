{
 "cells": [
  {
   "cell_type": "code",
   "execution_count": null,
   "metadata": {},
   "outputs": [
    {
     "name": "stderr",
     "output_type": "stream",
     "text": [
      "WARNING:absl:Compiled the loaded model, but the compiled metrics have yet to be built. `model.compile_metrics` will be empty until you train or evaluate the model.\n"
     ]
    },
    {
     "name": "stdout",
     "output_type": "stream",
     "text": [
      "Found 7178 images belonging to 7 classes.\n"
     ]
    },
    {
     "name": "stderr",
     "output_type": "stream",
     "text": [
      "c:\\Users\\kezin\\AppData\\Local\\Programs\\Python\\Python311\\Lib\\site-packages\\keras\\src\\trainers\\data_adapters\\py_dataset_adapter.py:121: UserWarning: Your `PyDataset` class should call `super().__init__(**kwargs)` in its constructor. `**kwargs` can include `workers`, `use_multiprocessing`, `max_queue_size`. Do not pass these arguments to `fit()`, as they will be ignored.\n",
      "  self._warn_if_super_not_called()\n"
     ]
    },
    {
     "name": "stdout",
     "output_type": "stream",
     "text": [
      "\u001b[1m225/225\u001b[0m \u001b[32m━━━━━━━━━━━━━━━━━━━━\u001b[0m\u001b[37m\u001b[0m \u001b[1m8s\u001b[0m 34ms/step\n",
      "Accuracy: 0.5687\n",
      "F1 Score: 0.5626\n",
      "Confusion Matrix:\n",
      "[[ 430    1  107   79  140  165   36]\n",
      " [  53   16   11    5    7   17    2]\n",
      " [ 126    1  319   59  154  244  121]\n",
      " [  50    0   51 1467  107   60   39]\n",
      " [  77    1  107  108  686  217   37]\n",
      " [ 139    0  153   93  245  585   32]\n",
      " [  29    1  105   62   39   16  579]]\n"
     ]
    }
   ],
   "source": [
    "import numpy as np\n",
    "import tensorflow as tf\n",
    "from tensorflow.keras.preprocessing.image import ImageDataGenerator\n",
    "from sklearn.metrics import accuracy_score, f1_score, confusion_matrix,classification_report\n",
    "import os\n",
    "\n",
    "# Load your trained model\n",
    "model = tf.keras.models.load_model(r\"C:\\Users\\kezin\\OneDrive\\Documents\\Codes\\python\\Projects\\Emotion_detection\\Custom\\CNN\\custom\\model_file.h5\")\n",
    "\n",
    "# Path to your test dataset\n",
    "test_dir = r\"C:\\Users\\kezin\\Downloads\\archive\\test\"  # Update this to your test image folder\n",
    "\n",
    "# Image parameters (should match your model's input size)\n",
    "IMG_SIZE = (48, 48)  # Update if different\n",
    "BATCH_SIZE = 32  # Adjust batch size as needed\n",
    "\n",
    "# Load test images using ImageDataGenerator\n",
    "test_datagen = ImageDataGenerator(rescale=1./255)  # Normalize images\n",
    "test_generator = test_datagen.flow_from_directory(\n",
    "    test_dir,\n",
    "    target_size=IMG_SIZE,\n",
    "    batch_size=BATCH_SIZE,\n",
    "    class_mode='categorical',  # Ensures labels are one-hot encoded\n",
    "    color_mode='grayscale',  # Force grayscale images (fix for input shape mismatch)\n",
    "    shuffle=False  \n",
    ")\n",
    "\n",
    "\n",
    "# Get true labels\n",
    "y_true = test_generator.classes\n",
    "\n",
    "# Predict on test data\n",
    "y_pred_probs = model.predict(test_generator)\n",
    "y_pred = np.argmax(y_pred_probs, axis=1)\n",
    "\n",
    "# Calculate metrics\n",
    "accuracy = accuracy_score(y_true, y_pred)\n",
    "f1 = f1_score(y_true, y_pred, average=\"weighted\")\n",
    "conf_matrix = confusion_matrix(y_true, y_pred)\n",
    "report = classification_report(y_test, y_pred_class)\n",
    "\n",
    "# Print results\n",
    "print(f\"Accuracy: {accuracy:.4f}\")\n",
    "print(f\"F1 Score: {f1:.4f}\")\n",
    "print(\"Confusion Matrix:\")\n",
    "print(conf_matrix)\n"
   ]
  },
  {
   "cell_type": "code",
   "execution_count": null,
   "metadata": {},
   "outputs": [],
   "source": [
    "from sklearn.metrics import accuracy_score, f1_score, classification_report\n",
    "\n",
    "y_pred = model.predict(X_test)\n",
    "y_pred_class = (y_pred > 0.5).astype(\"int32\")\n",
    "\n",
    "accuracy = accuracy_score(y_test, y_pred_class)\n",
    "f1 = f1_score(y_test, y_pred_class)\n",
    "report = classification_report(y_test, y_pred_class)\n",
    "\n",
    "print(\"Accuracy:\", accuracy)\n",
    "print(\"F1 Score:\", f1)\n",
    "print(\"Classification Report:\\n\", report)\n"
   ]
  }
 ],
 "metadata": {
  "kernelspec": {
   "display_name": "Python 3",
   "language": "python",
   "name": "python3"
  },
  "language_info": {
   "codemirror_mode": {
    "name": "ipython",
    "version": 3
   },
   "file_extension": ".py",
   "mimetype": "text/x-python",
   "name": "python",
   "nbconvert_exporter": "python",
   "pygments_lexer": "ipython3",
   "version": "3.11.0"
  }
 },
 "nbformat": 4,
 "nbformat_minor": 2
}
